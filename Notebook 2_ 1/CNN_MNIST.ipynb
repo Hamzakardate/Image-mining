{
  "nbformat": 4,
  "nbformat_minor": 0,
  "metadata": {
    "colab": {
      "name": "Untitled9.ipynb",
      "provenance": []
    },
    "kernelspec": {
      "name": "python3",
      "display_name": "Python 3"
    },
    "language_info": {
      "name": "python"
    }
  },
  "cells": [
    {
      "cell_type": "markdown",
      "source": [
        "CNN "
      ],
      "metadata": {
        "id": "x7KQGPezipUv"
      }
    },
    {
      "cell_type": "code",
      "source": [
        "import keras\n",
        "from keras.datasets import mnist\n",
        "from matplotlib import pyplot as plt\n",
        "import tensorflow as tf\n",
        "import cv2\n",
        "import numpy as np\n",
        "import os\n",
        "from tensorflow.keras.preprocessing.image import ImageDataGenerator\n",
        "from tensorflow.keras.preprocessing import image\n",
        "from keras.preprocessing.image import array_to_img, img_to_array\n",
        "import keras\n",
        "from keras.models import Sequential\n",
        "from keras.layers import Dense, Dropout\n",
        "from tensorflow.keras.optimizers import Adam\n",
        "from tensorflow.keras.utils import to_categorical\n",
        "from keras.layers import Conv2D, MaxPooling2D, Flatten"
      ],
      "metadata": {
        "id": "LMpFaVl7itTG"
      },
      "execution_count": 20,
      "outputs": []
    },
    {
      "cell_type": "markdown",
      "source": [
        "charger la base de données MNIST"
      ],
      "metadata": {
        "id": "u80-ZG3Rqqph"
      }
    },
    {
      "cell_type": "code",
      "source": [
        "# the data, split between train and test sets\n",
        "(x_train, y_train), (x_test, y_test) = mnist.load_data()"
      ],
      "metadata": {
        "id": "NCG3I1T_iuNw"
      },
      "execution_count": 31,
      "outputs": []
    },
    {
      "cell_type": "code",
      "source": [
        "randindices=np.random.randint(x_train.shape[0],size=3)\n",
        "plt.figure()\n",
        "plt.subplot(1,3,1)\n",
        "plt.imshow(x_train[randindices[0],:,:])\n",
        "plt.subplot(1,3,2)\n",
        "plt.imshow(x_train[randindices[1],:,:])\n",
        "plt.subplot(1,3,3)\n",
        "plt.imshow(x_train[randindices[2],:,:])"
      ],
      "metadata": {
        "colab": {
          "base_uri": "https://localhost:8080/",
          "height": 167
        },
        "id": "FsynaP_RmX0M",
        "outputId": "88fccc72-483e-457c-bc1c-eae316695f39"
      },
      "execution_count": 32,
      "outputs": [
        {
          "output_type": "execute_result",
          "data": {
            "text/plain": [
              "<matplotlib.image.AxesImage at 0x7f0561792250>"
            ]
          },
          "metadata": {},
          "execution_count": 32
        },
        {
          "output_type": "display_data",
          "data": {
            "image/png": "[encoded data removed]",
            "text/plain": [
              "<Figure size 432x288 with 3 Axes>"
            ]
          },
          "metadata": {
            "needs_background": "light"
          }
        }
      ]
    },
    {
      "cell_type": "markdown",
      "source": [
        "# Preprocess Data"
      ],
      "metadata": {
        "id": "YY0_IM89p1C9"
      }
    },
    {
      "cell_type": "code",
      "source": [
        "x_train = x_train.reshape(60000, 784)\n",
        "x_test = x_test.reshape(10000, 784)\n",
        "x_train = x_train.astype('float32')\n",
        "x_test = x_test.astype('float32')\n",
        "x_train /= 255\n",
        "x_test /= 255\n",
        "print(x_train.shape[0], 'train samples')\n",
        "print(x_test.shape[0], 'test samples')"
      ],
      "metadata": {
        "colab": {
          "base_uri": "https://localhost:8080/"
        },
        "id": "LX1tzyBYi6iQ",
        "outputId": "8d116862-827a-4b14-a6e6-7838a555a25d"
      },
      "execution_count": 14,
      "outputs": [
        {
          "output_type": "stream",
          "name": "stdout",
          "text": [
            "60000 train samples\n",
            "10000 test samples\n"
          ]
        }
      ]
    },
    {
      "cell_type": "markdown",
      "source": [
        "convertir les classes en vecteurs binaires (categorical)"
      ],
      "metadata": {
        "id": "DgWJ-RFMq3mT"
      }
    },
    {
      "cell_type": "code",
      "source": [
        "num_classes = 10\n",
        "y_train = to_categorical(y_train, num_classes)\n",
        "y_test = to_categorical(y_test, num_classes)"
      ],
      "metadata": {
        "id": "9UXhAZu_jRye"
      },
      "execution_count": 16,
      "outputs": []
    },
    {
      "cell_type": "code",
      "source": [
        "# Reshape the dataset into 4D array\n",
        "x_train = x_train.reshape(x_train.shape[0], 28,28,1)\n",
        "x_test = x_test.reshape(x_test.shape[0], 28,28,1)"
      ],
      "metadata": {
        "id": "9P2_nZg8juZ4"
      },
      "execution_count": 18,
      "outputs": []
    },
    {
      "cell_type": "markdown",
      "source": [
        "# Define a CNN model (Convolutional Neural Network)"
      ],
      "metadata": {
        "id": "TPh-PuLupmJ9"
      }
    },
    {
      "cell_type": "code",
      "source": [
        "model = keras.Sequential()\n",
        "model.add(Conv2D(filters=6, kernel_size=(5, 5), activation='relu', padding='valid', input_shape=(28,28,1)))\n",
        "model.add(MaxPooling2D())\n",
        "model.add(Conv2D(filters=16, kernel_size=(5, 5), activation='relu', padding='valid'))\n",
        "model.add(MaxPooling2D())\n",
        "model.add(Flatten())\n",
        "model.add(Dense(units=120, activation='relu'))\n",
        "model.add(Dense(units=84, activation='relu'))\n",
        "model.add(Dense(units=10, activation = 'softmax'))\n",
        "\n",
        "model.summary()"
      ],
      "metadata": {
        "colab": {
          "base_uri": "https://localhost:8080/"
        },
        "id": "Cw4FNyrokgvV",
        "outputId": "22ca0071-0bc7-4033-bec9-963fd39b9021"
      },
      "execution_count": 21,
      "outputs": [
        {
          "output_type": "stream",
          "name": "stdout",
          "text": [
            "Model: \"sequential_2\"\n",
            "_________________________________________________________________\n",
            " Layer (type)                Output Shape              Param #   \n",
            "=================================================================\n",
            " conv2d (Conv2D)             (None, 24, 24, 6)         156       \n",
            "                                                                 \n",
            " max_pooling2d (MaxPooling2D  (None, 12, 12, 6)        0         \n",
            " )                                                               \n",
            "                                                                 \n",
            " conv2d_1 (Conv2D)           (None, 8, 8, 16)          2416      \n",
            "                                                                 \n",
            " max_pooling2d_1 (MaxPooling  (None, 4, 4, 16)         0         \n",
            " 2D)                                                             \n",
            "                                                                 \n",
            " flatten (Flatten)           (None, 256)               0         \n",
            "                                                                 \n",
            " dense_3 (Dense)             (None, 120)               30840     \n",
            "                                                                 \n",
            " dense_4 (Dense)             (None, 84)                10164     \n",
            "                                                                 \n",
            " dense_5 (Dense)             (None, 10)                850       \n",
            "                                                                 \n",
            "=================================================================\n",
            "Total params: 44,426\n",
            "Trainable params: 44,426\n",
            "Non-trainable params: 0\n",
            "_________________________________________________________________\n"
          ]
        }
      ]
    },
    {
      "cell_type": "code",
      "source": [
        "model.compile(loss='categorical_crossentropy',optimizer='adam',metrics=['accuracy'])"
      ],
      "metadata": {
        "id": "rQ_hOZ-7lJwu"
      },
      "execution_count": 22,
      "outputs": []
    },
    {
      "cell_type": "code",
      "source": [
        "batch_size = 128\n",
        "epochs = 20"
      ],
      "metadata": {
        "id": "5dOy8QwRlilz"
      },
      "execution_count": 24,
      "outputs": []
    },
    {
      "cell_type": "code",
      "source": [
        "history = model.fit(x_train, y_train,\n",
        "          batch_size=batch_size,\n",
        "          epochs=epochs,\n",
        "          verbose=1,\n",
        "          validation_data=(x_test, y_test))\n"
      ],
      "metadata": {
        "colab": {
          "base_uri": "https://localhost:8080/"
        },
        "id": "GQfHmt6KlW1S",
        "outputId": "653b1029-f833-404a-9254-c32eea9a14c2"
      },
      "execution_count": 25,
      "outputs": [
        {
          "output_type": "stream",
          "name": "stdout",
          "text": [
            "Epoch 1/20\n",
            "469/469 [==============================] - 23s 46ms/step - loss: 0.3200 - accuracy: 0.9054 - val_loss: 0.0830 - val_accuracy: 0.9737\n",
            "Epoch 2/20\n",
            "469/469 [==============================] - 21s 45ms/step - loss: 0.0860 - accuracy: 0.9739 - val_loss: 0.0578 - val_accuracy: 0.9812\n",
            "Epoch 3/20\n",
            "469/469 [==============================] - 21s 46ms/step - loss: 0.0630 - accuracy: 0.9809 - val_loss: 0.0543 - val_accuracy: 0.9831\n",
            "Epoch 4/20\n",
            "469/469 [==============================] - 21s 45ms/step - loss: 0.0505 - accuracy: 0.9839 - val_loss: 0.0486 - val_accuracy: 0.9841\n",
            "Epoch 5/20\n",
            "469/469 [==============================] - 21s 45ms/step - loss: 0.0415 - accuracy: 0.9871 - val_loss: 0.0324 - val_accuracy: 0.9888\n",
            "Epoch 6/20\n",
            "469/469 [==============================] - 21s 45ms/step - loss: 0.0368 - accuracy: 0.9886 - val_loss: 0.0418 - val_accuracy: 0.9853\n",
            "Epoch 7/20\n",
            "469/469 [==============================] - 21s 45ms/step - loss: 0.0306 - accuracy: 0.9900 - val_loss: 0.0327 - val_accuracy: 0.9897\n",
            "Epoch 8/20\n",
            "469/469 [==============================] - 21s 46ms/step - loss: 0.0279 - accuracy: 0.9913 - val_loss: 0.0338 - val_accuracy: 0.9886\n",
            "Epoch 9/20\n",
            "469/469 [==============================] - 21s 45ms/step - loss: 0.0255 - accuracy: 0.9916 - val_loss: 0.0351 - val_accuracy: 0.9891\n",
            "Epoch 10/20\n",
            "469/469 [==============================] - 21s 45ms/step - loss: 0.0216 - accuracy: 0.9930 - val_loss: 0.0368 - val_accuracy: 0.9884\n",
            "Epoch 11/20\n",
            "469/469 [==============================] - 21s 45ms/step - loss: 0.0191 - accuracy: 0.9937 - val_loss: 0.0372 - val_accuracy: 0.9883\n",
            "Epoch 12/20\n",
            "469/469 [==============================] - 21s 45ms/step - loss: 0.0185 - accuracy: 0.9941 - val_loss: 0.0362 - val_accuracy: 0.9884\n",
            "Epoch 13/20\n",
            "469/469 [==============================] - 21s 45ms/step - loss: 0.0169 - accuracy: 0.9946 - val_loss: 0.0364 - val_accuracy: 0.9889\n",
            "Epoch 14/20\n",
            "469/469 [==============================] - 21s 45ms/step - loss: 0.0152 - accuracy: 0.9947 - val_loss: 0.0298 - val_accuracy: 0.9912\n",
            "Epoch 15/20\n",
            "469/469 [==============================] - 21s 45ms/step - loss: 0.0136 - accuracy: 0.9957 - val_loss: 0.0320 - val_accuracy: 0.9898\n",
            "Epoch 16/20\n",
            "469/469 [==============================] - 21s 45ms/step - loss: 0.0110 - accuracy: 0.9962 - val_loss: 0.0304 - val_accuracy: 0.9909\n",
            "Epoch 17/20\n",
            "469/469 [==============================] - 21s 45ms/step - loss: 0.0101 - accuracy: 0.9967 - val_loss: 0.0396 - val_accuracy: 0.9888\n",
            "Epoch 18/20\n",
            "469/469 [==============================] - 21s 45ms/step - loss: 0.0104 - accuracy: 0.9964 - val_loss: 0.0444 - val_accuracy: 0.9881\n",
            "Epoch 19/20\n",
            "469/469 [==============================] - 21s 45ms/step - loss: 0.0098 - accuracy: 0.9966 - val_loss: 0.0464 - val_accuracy: 0.9872\n",
            "Epoch 20/20\n",
            "469/469 [==============================] - 21s 45ms/step - loss: 0.0083 - accuracy: 0.9972 - val_loss: 0.0388 - val_accuracy: 0.9907\n"
          ]
        }
      ]
    },
    {
      "cell_type": "code",
      "source": [
        "plt.plot(history.history['loss'], label='train')\n",
        "plt.plot(history.history['val_loss'], label='val')\n",
        "plt.legend()"
      ],
      "metadata": {
        "colab": {
          "base_uri": "https://localhost:8080/",
          "height": 284
        },
        "id": "gtOL0EMGpZZo",
        "outputId": "a0cbde63-71ab-415c-f2e2-7b2e36e3ba22"
      },
      "execution_count": 28,
      "outputs": [
        {
          "output_type": "execute_result",
          "data": {
            "text/plain": [
              "<matplotlib.legend.Legend at 0x7f05606dbbd0>"
            ]
          },
          "metadata": {},
          "execution_count": 28
        },
        {
          "output_type": "display_data",
          "data": {
            "image/png": "[encoded data removed]",
            "text/plain": [
              "<Figure size 432x288 with 1 Axes>"
            ]
          },
          "metadata": {
            "needs_background": "light"
          }
        }
      ]
    },
    {
      "cell_type": "markdown",
      "source": [
        "score sur toute la base de données de test"
      ],
      "metadata": {
        "id": "CaJrXrUnrKJi"
      }
    },
    {
      "cell_type": "code",
      "source": [
        "score = model.evaluate(x_test, y_test, verbose=0)\n",
        "print('Test loss:', score[0])\n",
        "print('Test accuracy:', score[1])"
      ],
      "metadata": {
        "colab": {
          "base_uri": "https://localhost:8080/"
        },
        "id": "ZQ8c1_galaOE",
        "outputId": "41210c33-fe3a-4868-cdbc-532764a0b9da"
      },
      "execution_count": 27,
      "outputs": [
        {
          "output_type": "stream",
          "name": "stdout",
          "text": [
            "Test loss: 0.03878765553236008\n",
            "Test accuracy: 0.9907000064849854\n"
          ]
        }
      ]
    }
  ]
}